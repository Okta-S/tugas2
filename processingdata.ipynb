{
  "nbformat": 4,
  "nbformat_minor": 0,
  "metadata": {
    "colab": {
      "provenance": [],
      "authorship_tag": "ABX9TyMH+2pFc4YESJclCxhwDWUY",
      "include_colab_link": true
    },
    "kernelspec": {
      "name": "python3",
      "display_name": "Python 3"
    },
    "language_info": {
      "name": "python"
    }
  },
  "cells": [
    {
      "cell_type": "markdown",
      "metadata": {
        "id": "view-in-github",
        "colab_type": "text"
      },
      "source": [
        "<a href=\"https://colab.research.google.com/github/Okta-S/tugas2/blob/main/processingdata.ipynb\" target=\"_parent\"><img src=\"https://colab.research.google.com/assets/colab-badge.svg\" alt=\"Open In Colab\"/></a>"
      ]
    },
    {
      "cell_type": "markdown",
      "source": [
        "Langkah Awal sebslum kita menjalankan preprocessingdata, kita harus menginport library seperti di bawah ini:"
      ],
      "metadata": {
        "id": "dqi-gvcn9ZJ7"
      }
    },
    {
      "cell_type": "code",
      "source": [
        "import numpy as np\n",
        "import matplotlib.pyplot as plt\n",
        "import pandas as pd"
      ],
      "metadata": {
        "id": "zWZUVAGR7Idg"
      },
      "execution_count": 74,
      "outputs": []
    },
    {
      "cell_type": "markdown",
      "source": [
        "Setelah mengimpor library, langkah berikutnya adalah membaca data dari file CSV yang berisi nilai X dan Y."
      ],
      "metadata": {
        "id": "xzfMbiek9aTB"
      }
    },
    {
      "cell_type": "code",
      "source": [
        "dataset = pd.read_csv('data_rumah_sakit.csv')\n",
        "x = dataset.iloc[:, :-1].values\n",
        "y = dataset.iloc[:, -1].values"
      ],
      "metadata": {
        "id": "bFJG3Tqp7N6J"
      },
      "execution_count": 75,
      "outputs": []
    },
    {
      "cell_type": "markdown",
      "source": [
        "menjalankan printah untuk membaca nilai X"
      ],
      "metadata": {
        "id": "TaktGnCy9bl1"
      }
    },
    {
      "cell_type": "code",
      "source": [
        "print(x)"
      ],
      "metadata": {
        "colab": {
          "base_uri": "https://localhost:8080/"
        },
        "id": "Vp1uUSzN7P-g",
        "outputId": "427f77a0-fe4e-442d-b1e4-d17e14cc995e"
      },
      "execution_count": 76,
      "outputs": [
        {
          "output_type": "stream",
          "name": "stdout",
          "text": [
            "[['RS Bhayangkara' 45.0 5200000.0]\n",
            " ['RSUD Gambiran' 29.0 3800000.0]\n",
            " ['RS Aura Syifa' nan 4900000.0]\n",
            " ['RS Baptis Kediri' 40.0 nan]\n",
            " ['RS Muhammadiyah Ahmad Dahlan' 40.0 6700000.0]\n",
            " ['RSUD Pare' 38.0 4200000.0]\n",
            " ['RS HVA Toeloengredjo' nan 5600000.0]\n",
            " ['RS Aura Syifa' 50.0 7300000.0]\n",
            " ['RSUD Gambiran' 42.0 8100000.0]\n",
            " ['RS Baptis Kediri' 37.0 6200000.0]]\n"
          ]
        }
      ]
    },
    {
      "cell_type": "markdown",
      "source": [
        "menjalankan printah untuk membaca nilai y"
      ],
      "metadata": {
        "id": "GFze7_Hq9daM"
      }
    },
    {
      "cell_type": "code",
      "source": [
        "print(y)"
      ],
      "metadata": {
        "colab": {
          "base_uri": "https://localhost:8080/"
        },
        "id": "17w9EGGL9fgo",
        "outputId": "0d83f653-ff4c-40af-c244-779dd6683062"
      },
      "execution_count": 77,
      "outputs": [
        {
          "output_type": "stream",
          "name": "stdout",
          "text": [
            "['Ya' 'Tidak' 'Ya' 'Tidak' 'Ya' 'Tidak' 'Ya' 'Tidak' 'Ya' 'Tidak']\n"
          ]
        }
      ]
    },
    {
      "cell_type": "markdown",
      "source": [
        "Jika terdapat nilai yang hilang dalam dataset, kita akan mengisinya dengan nilai rata-rata (mean) dari masing-masing kolom."
      ],
      "metadata": {
        "id": "8ab1WvBj9huy"
      }
    },
    {
      "cell_type": "code",
      "source": [
        "from sklearn.impute import SimpleImputer\n",
        "imputer = SimpleImputer(missing_values=np.nan, strategy='mean')\n",
        "imputer.fit(x[:, 1:3])\n",
        "x[:, 1:3] = imputer.transform(x[:, 1:3])"
      ],
      "metadata": {
        "id": "LcFWkmPL9jnU"
      },
      "execution_count": 78,
      "outputs": []
    },
    {
      "cell_type": "markdown",
      "source": [
        "Ketika kita menjalankan kode `print(X)`, program akan menampilkan data X setelah proses pengisian nilai yang hilang dengan rata-rata (mean). Ini berguna untuk memastikan bahwa semua nilai yang hilang telah terisi dengan benar dan dataset siap digunakan untuk analisis lebih lanjut."
      ],
      "metadata": {
        "id": "gTHxQf6X9msb"
      }
    },
    {
      "cell_type": "code",
      "source": [
        "print(x)"
      ],
      "metadata": {
        "colab": {
          "base_uri": "https://localhost:8080/"
        },
        "id": "0lS3v0PT9oF6",
        "outputId": "eae0c3d0-238a-4dcf-99f4-8f2244e3fe8d"
      },
      "execution_count": 79,
      "outputs": [
        {
          "output_type": "stream",
          "name": "stdout",
          "text": [
            "[['RS Bhayangkara' 45.0 5200000.0]\n",
            " ['RSUD Gambiran' 29.0 3800000.0]\n",
            " ['RS Aura Syifa' 40.125 4900000.0]\n",
            " ['RS Baptis Kediri' 40.0 5777777.777777778]\n",
            " ['RS Muhammadiyah Ahmad Dahlan' 40.0 6700000.0]\n",
            " ['RSUD Pare' 38.0 4200000.0]\n",
            " ['RS HVA Toeloengredjo' 40.125 5600000.0]\n",
            " ['RS Aura Syifa' 50.0 7300000.0]\n",
            " ['RSUD Gambiran' 42.0 8100000.0]\n",
            " ['RS Baptis Kediri' 37.0 6200000.0]]\n"
          ]
        }
      ]
    },
    {
      "cell_type": "markdown",
      "source": [
        "Kita akan mengubah data kategorikal menjadi bentuk numerik menggunakan One-Hot Encoding. Metode ini akan mengonversi setiap kategori unik dalam kolom menjadi vektor biner, sehingga data lebih mudah diproses oleh algoritma machine learning."
      ],
      "metadata": {
        "id": "ra_oyv8R9sUT"
      }
    },
    {
      "cell_type": "code",
      "source": [
        "from sklearn.compose import ColumnTransformer\n",
        "from sklearn.preprocessing import OneHotEncoder\n",
        "ct = ColumnTransformer(transformers=[('encoder', OneHotEncoder(), [0])], remainder='passthrough')\n",
        "x = np.array(ct.fit_transform(x))"
      ],
      "metadata": {
        "id": "yes37xS-9tCk"
      },
      "execution_count": 80,
      "outputs": []
    },
    {
      "cell_type": "markdown",
      "source": [
        "Saat kita menjalankan `print(X)`, program akan menampilkan data X setelah dikonversi menggunakan One-Hot Encoding. Ini memungkinkan kita untuk melihat bagaimana data kategorikal telah diubah menjadi bentuk numerik dengan representasi vektor biner."
      ],
      "metadata": {
        "id": "5SBET0q69xp6"
      }
    },
    {
      "cell_type": "code",
      "source": [
        "print(x)"
      ],
      "metadata": {
        "colab": {
          "base_uri": "https://localhost:8080/"
        },
        "id": "ilItbkUr9yoN",
        "outputId": "289bac7d-db46-483b-ea9e-a5fb6ad0ec7a"
      },
      "execution_count": 81,
      "outputs": [
        {
          "output_type": "stream",
          "name": "stdout",
          "text": [
            "[[0.0 0.0 1.0 0.0 0.0 0.0 0.0 45.0 5200000.0]\n",
            " [0.0 0.0 0.0 0.0 0.0 1.0 0.0 29.0 3800000.0]\n",
            " [1.0 0.0 0.0 0.0 0.0 0.0 0.0 40.125 4900000.0]\n",
            " [0.0 1.0 0.0 0.0 0.0 0.0 0.0 40.0 5777777.777777778]\n",
            " [0.0 0.0 0.0 0.0 1.0 0.0 0.0 40.0 6700000.0]\n",
            " [0.0 0.0 0.0 0.0 0.0 0.0 1.0 38.0 4200000.0]\n",
            " [0.0 0.0 0.0 1.0 0.0 0.0 0.0 40.125 5600000.0]\n",
            " [1.0 0.0 0.0 0.0 0.0 0.0 0.0 50.0 7300000.0]\n",
            " [0.0 0.0 0.0 0.0 0.0 1.0 0.0 42.0 8100000.0]\n",
            " [0.0 1.0 0.0 0.0 0.0 0.0 0.0 37.0 6200000.0]]\n"
          ]
        }
      ]
    },
    {
      "cell_type": "markdown",
      "source": [
        "Kita akan mengonversi data kategorikal menjadi bentuk numerik menggunakan Label Encoding. Metode ini menggantikan setiap kategori unik dengan angka tertentu, sehingga data dapat digunakan dalam pemrosesan machine learning."
      ],
      "metadata": {
        "id": "jCnwZdJ892Gl"
      }
    },
    {
      "cell_type": "code",
      "source": [
        "from sklearn.preprocessing import LabelEncoder\n",
        "le= LabelEncoder()\n",
        "y=le.fit_transform(y)"
      ],
      "metadata": {
        "id": "4vzDNS1X93rl"
      },
      "execution_count": 82,
      "outputs": []
    },
    {
      "cell_type": "markdown",
      "source": [
        "Saat kita menjalankan `print(y)`, program akan menampilkan data y setelah dikonversi menggunakan Label Encoding. Ini memungkinkan kita melihat bagaimana setiap kategori telah digantikan dengan nilai numerik."
      ],
      "metadata": {
        "id": "yqSwxooa956c"
      }
    },
    {
      "cell_type": "code",
      "source": [
        "print(y)"
      ],
      "metadata": {
        "colab": {
          "base_uri": "https://localhost:8080/"
        },
        "id": "ekuYAOC796sr",
        "outputId": "818fb09c-8260-41d4-f9aa-de9b48979921"
      },
      "execution_count": 83,
      "outputs": [
        {
          "output_type": "stream",
          "name": "stdout",
          "text": [
            "[1 0 1 0 1 0 1 0 1 0]\n"
          ]
        }
      ]
    },
    {
      "cell_type": "markdown",
      "source": [
        "Kita akan membagi dataset menjadi data latih (training) dan data uji (testing) agar model machine learning dapat belajar dari data latih dan dievaluasi menggunakan data uji.\n"
      ],
      "metadata": {
        "id": "qwX8T0lv9-L7"
      }
    },
    {
      "cell_type": "code",
      "source": [
        "from sklearn.model_selection import train_test_split\n",
        "x_train, x_test, y_train, y_test = train_test_split(x, y, test_size=0.2, random_state=1)"
      ],
      "metadata": {
        "id": "m3oqWOhP9_jn"
      },
      "execution_count": 84,
      "outputs": []
    },
    {
      "cell_type": "markdown",
      "source": [
        "Saat kita menjalankan `print(X_train)`, program akan menampilkan data latih (training) setelah proses pembagian dataset. Data ini digunakan oleh model machine learning untuk belajar pola dari dataset."
      ],
      "metadata": {
        "id": "GM7onAaw-AlK"
      }
    },
    {
      "cell_type": "code",
      "source": [
        "print(x_train)"
      ],
      "metadata": {
        "colab": {
          "base_uri": "https://localhost:8080/"
        },
        "id": "lFWz9V_i-C17",
        "outputId": "972cf67b-8ad4-4b9e-fc0c-7714fa3adc43"
      },
      "execution_count": 85,
      "outputs": [
        {
          "output_type": "stream",
          "name": "stdout",
          "text": [
            "[[0.0 0.0 0.0 1.0 0.0 0.0 0.0 40.125 5600000.0]\n",
            " [0.0 0.0 0.0 0.0 1.0 0.0 0.0 40.0 6700000.0]\n",
            " [0.0 0.0 1.0 0.0 0.0 0.0 0.0 45.0 5200000.0]\n",
            " [0.0 1.0 0.0 0.0 0.0 0.0 0.0 40.0 5777777.777777778]\n",
            " [0.0 0.0 0.0 0.0 0.0 1.0 0.0 29.0 3800000.0]\n",
            " [1.0 0.0 0.0 0.0 0.0 0.0 0.0 50.0 7300000.0]\n",
            " [0.0 0.0 0.0 0.0 0.0 1.0 0.0 42.0 8100000.0]\n",
            " [0.0 0.0 0.0 0.0 0.0 0.0 1.0 38.0 4200000.0]]\n"
          ]
        }
      ]
    },
    {
      "cell_type": "markdown",
      "source": [
        "Saat kita menjalankan `print(X_test)`, program akan menampilkan data uji (testing) setelah proses pembagian dataset. Data ini digunakan untuk menguji kinerja model setelah dilatih."
      ],
      "metadata": {
        "id": "nncMUWwr-Fov"
      }
    },
    {
      "cell_type": "code",
      "source": [
        "print(x_test)"
      ],
      "metadata": {
        "colab": {
          "base_uri": "https://localhost:8080/"
        },
        "id": "Iy-yLx4c-HG4",
        "outputId": "e0b849e9-7e12-4d4f-fd23-9e86f2e3f516"
      },
      "execution_count": 86,
      "outputs": [
        {
          "output_type": "stream",
          "name": "stdout",
          "text": [
            "[[1.0 0.0 0.0 0.0 0.0 0.0 0.0 40.125 4900000.0]\n",
            " [0.0 1.0 0.0 0.0 0.0 0.0 0.0 37.0 6200000.0]]\n"
          ]
        }
      ]
    },
    {
      "cell_type": "markdown",
      "source": [
        "Saat kita menjalankan `print(y_train)`, program akan menampilkan data latih (training) untuk variabel target (y). Data ini digunakan oleh model machine learning untuk belajar dan menemukan pola dari dataset."
      ],
      "metadata": {
        "id": "zAAnT-k8-Jr9"
      }
    },
    {
      "cell_type": "code",
      "source": [
        "print(y_train)"
      ],
      "metadata": {
        "colab": {
          "base_uri": "https://localhost:8080/"
        },
        "id": "450sRvRw-KnU",
        "outputId": "a44e0a4f-7269-47c2-e2ce-8ef0fda9ca10"
      },
      "execution_count": 87,
      "outputs": [
        {
          "output_type": "stream",
          "name": "stdout",
          "text": [
            "[1 1 1 0 0 0 1 0]\n"
          ]
        }
      ]
    },
    {
      "cell_type": "markdown",
      "source": [
        "Saat kita menjalankan `print(y_test)`, program akan menampilkan data uji (testing) untuk variabel target (y). Data ini digunakan untuk mengukur seberapa baik model dapat memprediksi hasil berdasarkan data yang belum pernah dilihat sebelumnya."
      ],
      "metadata": {
        "id": "ZyisSRWT-NxD"
      }
    },
    {
      "cell_type": "code",
      "source": [
        "print(y_test)"
      ],
      "metadata": {
        "colab": {
          "base_uri": "https://localhost:8080/"
        },
        "id": "N-c26D6D-OmI",
        "outputId": "237aa05e-a924-48ae-c4e9-8f4a113b4090"
      },
      "execution_count": 88,
      "outputs": [
        {
          "output_type": "stream",
          "name": "stdout",
          "text": [
            "[1 0]\n"
          ]
        }
      ]
    },
    {
      "cell_type": "markdown",
      "source": [
        "Kita akan menstandarisasi fitur numerik dalam dataset menggunakan **StandardScaler** dari `sklearn.preprocessing`. Metode ini mengubah data sehingga memiliki rata-rata 0 dan standar deviasi 1, sehingga model machine learning dapat bekerja lebih optimal."
      ],
      "metadata": {
        "id": "Ygzl0PDp-URp"
      }
    },
    {
      "cell_type": "code",
      "source": [
        "from sklearn.preprocessing import StandardScaler\n",
        "sc = StandardScaler()\n",
        "x_train[:, 4:] = sc.fit_transform(x_train[:, 4:])\n",
        "x_test[:, 4:]= sc.transform(x_test[:, 4:])"
      ],
      "metadata": {
        "id": "v2Lq4COI-WaI"
      },
      "execution_count": 89,
      "outputs": []
    },
    {
      "cell_type": "markdown",
      "source": [
        "Saat kita menjalankan `print(X_train)`, program akan menampilkan data latih (training) setelah proses standarisasi. Data ini telah diubah sehingga memiliki rata-rata 0 dan standar deviasi 1, membantu model machine learning bekerja lebih optimal."
      ],
      "metadata": {
        "id": "LdEDSDg8-l3x"
      }
    },
    {
      "cell_type": "code",
      "source": [
        "print(x_train)"
      ],
      "metadata": {
        "colab": {
          "base_uri": "https://localhost:8080/"
        },
        "id": "UWKUquHw-nkf",
        "outputId": "85af4705-5ed4-45d5-8fc0-0354488c6400"
      },
      "execution_count": 90,
      "outputs": [
        {
          "output_type": "stream",
          "name": "stdout",
          "text": [
            "[[0.0 0.0 0.0 1.0 -0.3779644730092272 -0.5773502691896258\n",
            "  -0.3779644730092272 -0.06961466056901107 -0.16972328946661241]\n",
            " [0.0 0.0 0.0 0.0 2.6457513110645903 -0.5773502691896258\n",
            "  -0.3779644730092272 -0.09189135195109462 0.6256663274420098]\n",
            " [0.0 0.0 1.0 0.0 -0.3779644730092272 -0.5773502691896258\n",
            "  -0.3779644730092272 0.7991763033322471 -0.4589558774333841]\n",
            " [0.0 1.0 0.0 0.0 -0.3779644730092272 -0.5773502691896258\n",
            "  -0.3779644730092272 -0.09189135195109462 -0.041175472592491505]\n",
            " [0.0 0.0 0.0 0.0 -0.3779644730092272 1.7320508075688774\n",
            "  -0.3779644730092272 -2.0522401935744465 -1.471269935317085]\n",
            " [1.0 0.0 0.0 0.0 -0.3779644730092272 -0.5773502691896258\n",
            "  -0.3779644730092272 1.6902439586155888 1.0595152093921674]\n",
            " [0.0 0.0 0.0 0.0 -0.3779644730092272 1.7320508075688774\n",
            "  -0.3779644730092272 0.2645357101622421 1.6379803853257107]\n",
            " [0.0 0.0 0.0 0.0 -0.3779644730092272 -0.5773502691896258\n",
            "  2.6457513110645903 -0.4483184140644313 -1.1820373473503134]]\n"
          ]
        }
      ]
    }
  ]
}